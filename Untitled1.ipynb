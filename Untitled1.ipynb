{
  "nbformat": 4,
  "nbformat_minor": 0,
  "metadata": {
    "colab": {
      "provenance": []
    },
    "kernelspec": {
      "name": "python3",
      "display_name": "Python 3"
    },
    "language_info": {
      "name": "python"
    }
  },
  "cells": [
    {
      "cell_type": "code",
      "execution_count": 1,
      "metadata": {
        "colab": {
          "base_uri": "https://localhost:8080/"
        },
        "id": "aVYXCDEEo9Ak",
        "outputId": "a9d042d3-277a-44a4-dfe8-649461c9a763"
      },
      "outputs": [
        {
          "output_type": "stream",
          "name": "stdout",
          "text": [
            "Enter an integer number between 5 and 15:\n",
            "7\n",
            "The elements in the random array are: 19 21 32 47 21 30 47 \n",
            "The sum is: 217\n"
          ]
        }
      ],
      "source": [
        "import random\n",
        "\n",
        "def random_array(array_len):\n",
        "    MyArray = [random.randint(10, 50) for _ in range(array_len)]\n",
        "    return MyArray\n",
        "\n",
        "def sum_array(array):\n",
        "    return sum(array)\n",
        "\n",
        "try:\n",
        "    print(\"Enter an integer number between 5 and 15:\")\n",
        "    input_num = int(input())\n",
        "\n",
        "    if 5 <= input_num <= 15:\n",
        "        MyArray = random_array(input_num)\n",
        "\n",
        "        print(\"The elements in the random array are:\", end=\" \")\n",
        "        for i in MyArray:\n",
        "            print(i, end=\" \")\n",
        "        print(\"\\nThe sum is:\", sum_array(MyArray))\n",
        "    else:\n",
        "        print(\"Please enter a valid input between 5 and 15.\")\n",
        "\n",
        "except ValueError:\n",
        "    print(\"Please enter a valid integer input.\")"
      ]
    }
  ]
}